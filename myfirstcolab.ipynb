{
  "nbformat": 4,
  "nbformat_minor": 0,
  "metadata": {
    "colab": {
      "name": "myfirstcolab",
      "provenance": [],
      "authorship_tag": "ABX9TyOH0YtGiFOljrJi3Va2z29w",
      "include_colab_link": true
    },
    "kernelspec": {
      "name": "python3",
      "display_name": "Python 3"
    }
  },
  "cells": [
    {
      "cell_type": "markdown",
      "metadata": {
        "id": "view-in-github",
        "colab_type": "text"
      },
      "source": [
        "<a href=\"https://colab.research.google.com/github/wangjb/colab/blob/master/myfirstcolab.ipynb\" target=\"_parent\"><img src=\"https://colab.research.google.com/assets/colab-badge.svg\" alt=\"Open In Colab\"/></a>"
      ]
    },
    {
      "cell_type": "markdown",
      "metadata": {
        "id": "FOYBE9EAHdO1",
        "colab_type": "text"
      },
      "source": [
        "# 我的第一個colab\n"
      ]
    },
    {
      "cell_type": "code",
      "metadata": {
        "id": "KN1Ch3G6HK-G",
        "colab_type": "code",
        "colab": {}
      },
      "source": [
        "import tensorflow\n"
      ],
      "execution_count": 0,
      "outputs": []
    }
  ]
}